{
 "cells": [
  {
   "cell_type": "code",
   "execution_count": 2,
   "metadata": {},
   "outputs": [],
   "source": [
    "import cv2\n",
    "import numpy as np"
   ]
  },
  {
   "cell_type": "code",
   "execution_count": 3,
   "metadata": {},
   "outputs": [],
   "source": [
    "image=cv2.imread('..\\\\jletter.png')\n",
    "image=cv2.resize(image,(500,500))\n",
    "image=cv2.cvtColor(image,cv2.COLOR_BGR2GRAY)\n",
    "bilblur=cv2.bilateralFilter(image,3,20,20)\n",
    "thresh=cv2.threshold(bilblur,127,255,cv2.THRESH_BINARY)[1]\n",
    "cv2.imshow('bilateral',thresh)\n",
    "cv2.waitKey(3000)\n",
    "cv2.destroyAllWindows()"
   ]
  },
  {
   "cell_type": "code",
   "execution_count": 4,
   "metadata": {},
   "outputs": [],
   "source": [
    "# Eroding\n",
    "#while siding over image if all pixels are 1 then it will be 1 else 0\n",
    "kernel=np.ones((6,6),np.uint8)\n",
    "eroded=cv2.erode(thresh,kernel,1)\n",
    "cv2.imshow('erode',eroded)\n",
    "cv2.imshow('bilateral',thresh)\n",
    "cv2.waitKey(3000)\n",
    "cv2.destroyAllWindows()"
   ]
  },
  {
   "cell_type": "code",
   "execution_count": 5,
   "metadata": {},
   "outputs": [],
   "source": [
    "#Dilation\n",
    "#opposite of erosion, if any pixel is 1 then it will be 1 else 0\n",
    "dilated=cv2.dilate(thresh,kernel,5)\n",
    "cv2.imshow('Dilated',dilated)\n",
    "cv2.imshow('bilateral',thresh)\n",
    "cv2.waitKey(3000)\n",
    "cv2.destroyAllWindows()"
   ]
  },
  {
   "cell_type": "code",
   "execution_count": 7,
   "metadata": {},
   "outputs": [],
   "source": [
    "# Opening (erosion followed by dilation)\n",
    "cv2.imshow('Opening',cv2.morphologyEx(thresh,cv2.MORPH_OPEN,kernel))\n",
    "cv2.imshow('erode',eroded)\n",
    "cv2.imshow('bilateral',bilblur)\n",
    "cv2.waitKey(3000)\n",
    "cv2.destroyAllWindows()"
   ]
  },
  {
   "cell_type": "code",
   "execution_count": null,
   "metadata": {},
   "outputs": [],
   "source": [
    "#closing (dilation followed by erosion)\n",
    "cv2.imshow('Closing',cv2.morphologyEx(thresh,cv2.MORPH_CLOSE,kernel))\n",
    "cv2.imshow('dilated',dilated)\n",
    "cv2.imshow('bilateral',bilblur)\n",
    "cv2.waitKey(3000)\n",
    "cv2.destroyAllWindows()"
   ]
  },
  {
   "cell_type": "code",
   "execution_count": null,
   "metadata": {},
   "outputs": [],
   "source": [
    "#morphological gradient (dilation-erosion) difference betweek dilatetion and erosion\n",
    "cv2.imshow('Gradient',cv2.morphologyEx(thresh,cv2.MORPH_GRADIENT,kernel))\n",
    "cv2.imshow('bilateral',bilblur)\n",
    "cv2.waitKey(3000)\n",
    "cv2.destroyAllWindows()"
   ]
  },
  {
   "cell_type": "code",
   "execution_count": 11,
   "metadata": {},
   "outputs": [],
   "source": [
    "#tophat (input image - opening)\n",
    "#black hat (input image - closing)\n",
    "#structuring element is used to find the difference between the input image and the opening/closing of the image.\n",
    "ellipticalkernel=cv2.getStructuringElement(cv2.MORPH_ELLIPSE,(2,2))\n",
    "cv2.imshow('Tophat',cv2.morphologyEx(thresh,cv2.MORPH_TOPHAT,ellipticalkernel))\n",
    "cv2.imshow('bilateral',bilblur)\n",
    "cv2.waitKey(3000)\n",
    "cv2.destroyAllWindows()"
   ]
  },
  {
   "cell_type": "code",
   "execution_count": null,
   "metadata": {},
   "outputs": [],
   "source": []
  }
 ],
 "metadata": {
  "kernelspec": {
   "display_name": "Python 3",
   "language": "python",
   "name": "python3"
  },
  "language_info": {
   "codemirror_mode": {
    "name": "ipython",
    "version": 3
   },
   "file_extension": ".py",
   "mimetype": "text/x-python",
   "name": "python",
   "nbconvert_exporter": "python",
   "pygments_lexer": "ipython3",
   "version": "3.13.2"
  }
 },
 "nbformat": 4,
 "nbformat_minor": 2
}
