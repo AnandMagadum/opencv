{
 "cells": [
  {
   "cell_type": "code",
   "execution_count": 1,
   "metadata": {},
   "outputs": [],
   "source": [
    "import cv2\n",
    "import numpy as np"
   ]
  },
  {
   "cell_type": "code",
   "execution_count": 12,
   "metadata": {},
   "outputs": [
    {
     "name": "stdout",
     "output_type": "stream",
     "text": [
      "Original Image shape:  (480, 640, 3)\n",
      "Lower Resolution Image shape:  (240, 320, 3)\n"
     ]
    }
   ],
   "source": [
    "img = cv2.imread('..\\\\nature1.jpg')\n",
    "assert img is not None, \"file could not be read, check with os.path.exists()\"\n",
    "img=cv2.resize(img, (640, 480))\n",
    "lower_reso = cv2.pyrDown(img)\n",
    "cv2.imshow('Original Image', img)\n",
    "cv2.imshow('Lower Resolution Image', lower_reso)\n",
    "cv2.waitKey(4000)\n",
    "cv2.destroyAllWindows()\n",
    "print(\"Original Image shape: \", img.shape)\n",
    "print(\"Lower Resolution Image shape: \", lower_reso.shape)"
   ]
  },
  {
   "cell_type": "code",
   "execution_count": 14,
   "metadata": {},
   "outputs": [
    {
     "name": "stdout",
     "output_type": "stream",
     "text": [
      "Original Image Shape: (480, 640, 3)\n",
      "Higher Resolution Image Shape: (960, 1280, 3)\n"
     ]
    }
   ],
   "source": [
    "higher_reso = cv2.pyrUp(img)\n",
    "cv2.imshow('Original Image', img)\n",
    "cv2.imshow('Higher Resolution Image', higher_reso)\n",
    "cv2.waitKey(4000)\n",
    "cv2.destroyAllWindows()\n",
    "print(f'Original Image Shape: {img.shape}')\n",
    "print(f'Higher Resolution Image Shape: {higher_reso.shape}')"
   ]
  },
  {
   "cell_type": "code",
   "execution_count": null,
   "metadata": {},
   "outputs": [],
   "source": []
  }
 ],
 "metadata": {
  "kernelspec": {
   "display_name": "Python 3",
   "language": "python",
   "name": "python3"
  },
  "language_info": {
   "codemirror_mode": {
    "name": "ipython",
    "version": 3
   },
   "file_extension": ".py",
   "mimetype": "text/x-python",
   "name": "python",
   "nbconvert_exporter": "python",
   "pygments_lexer": "ipython3",
   "version": "3.13.2"
  }
 },
 "nbformat": 4,
 "nbformat_minor": 2
}
