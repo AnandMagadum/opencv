{
 "cells": [
  {
   "cell_type": "code",
   "execution_count": 2,
   "metadata": {},
   "outputs": [],
   "source": [
    "import cv2\n",
    "import numpy as np"
   ]
  },
  {
   "cell_type": "code",
   "execution_count": 22,
   "metadata": {},
   "outputs": [],
   "source": [
    "vid=cv2.VideoCapture(0)\n",
    "while True:\n",
    "    try :\n",
    "        _,frame=vid.read()\n",
    "        cv2.imshow('WebCam Original',frame)\n",
    "        whiten=cv2.inRange(frame,(150,150,150),(255,255,255))\n",
    "        colored=frame.copy()\n",
    "        colored[whiten<255]=[0,0,0]\n",
    "        colored[whiten==255]=[52,100,200]\n",
    "        cv2.imshow('WebCam Colored',cv2.flip(colored,1))\n",
    "        if cv2.waitKey(1)&0xFF==ord('q'):\n",
    "            break\n",
    "    except Exception as e:\n",
    "        print(str(e))\n",
    "        break\n",
    "vid.release()\n",
    "cv2.destroyAllWindows()"
   ]
  },
  {
   "cell_type": "code",
   "execution_count": null,
   "metadata": {},
   "outputs": [],
   "source": []
  }
 ],
 "metadata": {
  "kernelspec": {
   "display_name": "Python 3",
   "language": "python",
   "name": "python3"
  },
  "language_info": {
   "codemirror_mode": {
    "name": "ipython",
    "version": 3
   },
   "file_extension": ".py",
   "mimetype": "text/x-python",
   "name": "python",
   "nbconvert_exporter": "python",
   "pygments_lexer": "ipython3",
   "version": "3.13.2"
  }
 },
 "nbformat": 4,
 "nbformat_minor": 2
}
