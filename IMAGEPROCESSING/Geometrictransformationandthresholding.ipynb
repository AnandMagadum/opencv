{
 "cells": [
  {
   "cell_type": "code",
   "execution_count": 2,
   "metadata": {},
   "outputs": [],
   "source": [
    "import cv2\n",
    "import numpy as np"
   ]
  },
  {
   "cell_type": "markdown",
   "metadata": {},
   "source": [
    "### Resizing"
   ]
  },
  {
   "cell_type": "code",
   "execution_count": 3,
   "metadata": {},
   "outputs": [],
   "source": [
    "image=cv2.imread('..\\\\nature1.jpg')\n",
    "cv2.imshow('Original',image)\n",
    "cv2.imshow('Reszed Image',cv2.resize(image,(500,500),cv2.INTER_LINEAR))\n",
    "cv2.waitKey(5000)\n",
    "cv2.destroyAllWindows()"
   ]
  },
  {
   "cell_type": "markdown",
   "metadata": {},
   "source": [
    "### Transforming\n",
    "1. warpAffine  2*3\n",
    "2. warpPerspective 3*3"
   ]
  },
  {
   "cell_type": "code",
   "execution_count": 4,
   "metadata": {},
   "outputs": [],
   "source": [
    "#Shifting Image\n",
    "pt1=np.array([[1,0,100],[0,1,50]]).astype(np.float32)\n",
    "cv2.imshow('Image',cv2.warpAffine(image,pt1,(image.shape[0],image.shape[1])))\n",
    "cv2.waitKey(3000)\n",
    "cv2.destroyAllWindows()"
   ]
  },
  {
   "cell_type": "code",
   "execution_count": 5,
   "metadata": {},
   "outputs": [],
   "source": [
    "# Rotating Image\n",
    "pt2=cv2.getRotationMatrix2D((image.shape[0]/2,image.shape[1]/2),90,-1)\n",
    "cv2.imshow('Image',cv2.warpAffine(image,pt2,(image.shape[0],image.shape[1])))\n",
    "cv2.waitKey(3000)\n",
    "cv2.destroyAllWindows()"
   ]
  },
  {
   "cell_type": "code",
   "execution_count": 6,
   "metadata": {},
   "outputs": [],
   "source": [
    "# Affine Transformation\n",
    "pt3=np.array([[10,20],[20,30],[30,40]]).astype(np.float32)\n",
    "pt4=np.array([[20,30],[30,40],[40,50]]).astype(np.float32)\n",
    "pt3=cv2.getAffineTransform(pt3,pt4)\n",
    "cv2.imshow('Image',cv2.warpAffine(image,pt3,(400,400)))\n",
    "cv2.waitKey(3000)\n",
    "cv2.destroyAllWindows()"
   ]
  },
  {
   "cell_type": "markdown",
   "metadata": {},
   "source": [
    "### Thresh Holding"
   ]
  },
  {
   "cell_type": "code",
   "execution_count": 7,
   "metadata": {},
   "outputs": [],
   "source": [
    "#Simple thresholding\n",
    "gray=cv2.cvtColor(image,cv2.COLOR_BGR2GRAY)\n",
    "cv2.imshow('Gray Image',gray)\n",
    "_,sthresh=cv2.threshold(gray,100,255,cv2.THRESH_BINARY)\n",
    "cv2.imshow('Binary Image',sthresh)\n",
    "cv2.waitKey(3000)\n",
    "cv2.destroyAllWindows()"
   ]
  },
  {
   "cell_type": "code",
   "execution_count": 8,
   "metadata": {},
   "outputs": [],
   "source": [
    "#Adaptive Thresholding\n",
    "adapthreshgaussion=cv2.adaptiveThreshold(gray,255,cv2.ADAPTIVE_THRESH_GAUSSIAN_C,cv2.THRESH_BINARY,11,2)\n",
    "cv2.imshow('Adaptive Gaussian Thresholding',adapthreshgaussion)\n",
    "cv2.waitKey(3000)\n",
    "cv2.destroyAllWindows()"
   ]
  },
  {
   "cell_type": "code",
   "execution_count": 16,
   "metadata": {},
   "outputs": [],
   "source": [
    "adapthreshmean=cv2.adaptiveThreshold(gray,255,cv2.ADAPTIVE_THRESH_MEAN_C,cv2.THRESH_BINARY,61,2)\n",
    "cv2.imshow('Adaptive Mean Thresholding',adapthreshmean)\n",
    "cv2.waitKey(3000)\n",
    "cv2.destroyAllWindows()"
   ]
  },
  {
   "cell_type": "code",
   "execution_count": 21,
   "metadata": {},
   "outputs": [],
   "source": [
    "#Otsu's Thresholding\n",
    "_,otsuthresh=cv2.threshold(gray,0,255,cv2.THRESH_BINARY+cv2.THRESH_OTSU)\n",
    "cv2.imshow('Otsu Thresholding',otsuthresh) \n",
    "cv2.waitKey(3000)\n",
    "cv2.destroyAllWindows()"
   ]
  },
  {
   "cell_type": "code",
   "execution_count": null,
   "metadata": {},
   "outputs": [],
   "source": []
  }
 ],
 "metadata": {
  "kernelspec": {
   "display_name": "Python 3",
   "language": "python",
   "name": "python3"
  },
  "language_info": {
   "codemirror_mode": {
    "name": "ipython",
    "version": 3
   },
   "file_extension": ".py",
   "mimetype": "text/x-python",
   "name": "python",
   "nbconvert_exporter": "python",
   "pygments_lexer": "ipython3",
   "version": "3.13.2"
  }
 },
 "nbformat": 4,
 "nbformat_minor": 2
}
