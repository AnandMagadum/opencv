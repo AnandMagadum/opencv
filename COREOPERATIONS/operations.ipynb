{
 "cells": [
  {
   "cell_type": "code",
   "execution_count": 50,
   "metadata": {},
   "outputs": [],
   "source": [
    "import cv2\n",
    "import numpy as np"
   ]
  },
  {
   "cell_type": "code",
   "execution_count": 51,
   "metadata": {},
   "outputs": [
    {
     "name": "stdout",
     "output_type": "stream",
     "text": [
      "Image shape :(183, 196, 3)\n"
     ]
    }
   ],
   "source": [
    "## Accessing pixel of an image\n",
    "image=cv2.imread('..\\\\tiger.jpg')\n",
    "print(f'Image shape :{image.shape}')\n",
    "#  Acceessing values blue,green and red layers\n",
    "blue=image[:,:,0]\n",
    "green=image[:,:,0]\n",
    "red=image[:,:,2]\n",
    "cv2.imshow('image',image)\n",
    "cv2.imshow('Blue',blue)\n",
    "cv2.imshow('Red',red)\n",
    "cv2.imshow('Green',green)\n",
    "cv2.waitKey(3000)\n",
    "cv2.destroyAllWindows()"
   ]
  },
  {
   "cell_type": "code",
   "execution_count": 52,
   "metadata": {},
   "outputs": [],
   "source": [
    "# Changing pixel values\n",
    "values=image[10:90,80:150]\n",
    "image[0:80,0:70]=values\n",
    "cv2.imshow('image',image)\n",
    "cv2.waitKey(3000)\n",
    "cv2.destroyAllWindows()"
   ]
  },
  {
   "cell_type": "code",
   "execution_count": 53,
   "metadata": {},
   "outputs": [],
   "source": [
    "#Making border\n",
    "borderedimage=cv2.copyMakeBorder(image,20,20,20,20,cv2.BORDER_REPLICATE)\n",
    "cv2.imshow('Bordered Image',borderedimage)\n",
    "cv2.waitKey(3000)\n",
    "cv2.destroyAllWindows()"
   ]
  },
  {
   "cell_type": "code",
   "execution_count": 54,
   "metadata": {},
   "outputs": [],
   "source": [
    "# Adding Images \n",
    "# Images size should be same\n",
    "alpha=0.8\n",
    "beta=alpha-1\n",
    "image=cv2.resize(image,(500,500))\n",
    "image2=cv2.imread('..\\\\nature2.jpg')\n",
    "image2=cv2.resize(image2,(500,500))\n",
    "addedimage=cv2.addWeighted(image,alpha,image2,beta,0)\n",
    "cv2.imshow('Added Image',addedimage)\n",
    "cv2.waitKey(3000)\n",
    "cv2.destroyAllWindows()"
   ]
  },
  {
   "cell_type": "markdown",
   "metadata": {},
   "source": [
    "## Increasing brightness(beta) and Contrast(alpha)\n",
    "#### alpha*pixelvalue+beta\n",
    "\n",
    "As Beta increases brightnesss increase and histogram shift towards right and as alpha increases spread increases and vice versa"
   ]
  },
  {
   "cell_type": "code",
   "execution_count": 72,
   "metadata": {},
   "outputs": [
    {
     "name": "stdout",
     "output_type": "stream",
     "text": [
      "(148, 261, 3) uint8\n"
     ]
    }
   ],
   "source": [
    "image=cv2.imread('..\\\\darkImage.jpg')\n",
    "newimage=np.zeros(image.shape,image.dtype)\n",
    "alpha=0.8\n",
    "beta=80\n",
    "print(image.shape,image.dtype)\n",
    "# for i in range(image.shape[0]):\n",
    "#     for j in range(image.shape[1]):\n",
    "#         for k in range(image.shape[2]):\n",
    "#             newimage[i,j,k]=np.clip(alpha*image[i,j,k]+beta,0,255)\n",
    "newimage=np.clip(alpha*image+beta,0,255).astype(np.uint8)\n",
    "cv2.imshow('New Image',newimage)\n",
    "cv2.imshow('Original Image',image)\n",
    "cv2.waitKey(3000)\n",
    "cv2.destroyAllWindows()"
   ]
  },
  {
   "cell_type": "code",
   "execution_count": null,
   "metadata": {},
   "outputs": [],
   "source": []
  }
 ],
 "metadata": {
  "kernelspec": {
   "display_name": "Python 3",
   "language": "python",
   "name": "python3"
  },
  "language_info": {
   "codemirror_mode": {
    "name": "ipython",
    "version": 3
   },
   "file_extension": ".py",
   "mimetype": "text/x-python",
   "name": "python",
   "nbconvert_exporter": "python",
   "pygments_lexer": "ipython3",
   "version": "3.13.2"
  }
 },
 "nbformat": 4,
 "nbformat_minor": 2
}
