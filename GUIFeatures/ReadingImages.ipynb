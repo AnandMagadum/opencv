{
 "cells": [
  {
   "cell_type": "markdown",
   "metadata": {},
   "source": [
    "## Reading Images and Videos "
   ]
  },
  {
   "cell_type": "code",
   "execution_count": 6,
   "metadata": {},
   "outputs": [],
   "source": [
    "import cv2\n",
    "import matplotlib.pyplot as plt\n",
    "import time"
   ]
  },
  {
   "cell_type": "code",
   "execution_count": 23,
   "metadata": {},
   "outputs": [
    {
     "data": {
      "text/plain": [
       "True"
      ]
     },
     "execution_count": 23,
     "metadata": {},
     "output_type": "execute_result"
    }
   ],
   "source": [
    "#Reading Images\n",
    "image=cv2.imread(\"..//nature1.jpg\",-1)\n",
    "# 1 for RGB,-1 for BGR and 0 for grayscale\n",
    "assert image is not None, \"Image not found\"\n",
    "cv2.imshow('nature',image)\n",
    "cv2.waitKey(5000)\n",
    "cv2.destroyAllWindows()\n",
    "#writing images\n",
    "cv2.imwrite(\"..//nature2.jpg\",image)"
   ]
  },
  {
   "cell_type": "code",
   "execution_count": 73,
   "metadata": {},
   "outputs": [
    {
     "name": "stdout",
     "output_type": "stream",
     "text": [
      "Video Codec: h264\n",
      "width: 1080, height: 1920\n",
      "End of video\n"
     ]
    }
   ],
   "source": [
    "#Capturing Videos and writing video\n",
    "vid = cv2.VideoCapture(\"..\\\\dogvideo.mp4\")\n",
    "codec = int(vid.get(cv2.CAP_PROP_FOURCC))\n",
    "codec_str = \"\".join([chr((codec >> 8 * i) & 0xFF) for i in range(4)])\n",
    "print(f\"Video Codec: {codec_str}\")\n",
    "# Get the original video dimensions\n",
    "width = int(vid.get(cv2.CAP_PROP_FRAME_WIDTH))\n",
    "height = int(vid.get(cv2.CAP_PROP_FRAME_HEIGHT))\n",
    "print(f'width: {width}, height: {height}')\n",
    "# Initialize VideoWriter with matching dimensions\n",
    "fourcc = cv2.VideoWriter_fourcc(*'h264')\n",
    "writer = cv2.VideoWriter(\"..\\\\output.mp4\", fourcc, 30.0, (400, 600))\n",
    "\n",
    "# Set the desired frame delay for 30 FPS\n",
    "frame_delay = 1 / 40\n",
    "\n",
    "prev_time = 0\n",
    "\n",
    "while True:\n",
    "    try:\n",
    "        # Read the frame\n",
    "        ret, frame = vid.read()\n",
    "        if not ret:\n",
    "            print(\"End of video\")\n",
    "            break\n",
    "\n",
    "        # Calculate FPS\n",
    "        cur_time = time.time()\n",
    "        fps = int(1 / (cur_time - prev_time)) if prev_time != 0 else 0\n",
    "        prev_time = cur_time\n",
    "\n",
    "        # Add FPS text to the frame\n",
    "        frame = cv2.putText(frame, f'FPS: {fps} Press \"q\" to stop', (10, 30), cv2.FONT_HERSHEY_SIMPLEX, 1, (0, 0, 255), 2)\n",
    "\n",
    "        # Display the frame\n",
    "        frame=cv2.resize(frame, (400,600), interpolation=cv2.INTER_LINEAR)\n",
    "        cv2.imshow('Video', frame)\n",
    "\n",
    "        # Write the frame to the output file\n",
    "        writer.write(frame)\n",
    "\n",
    "        # Enforce 30 FPS playback\n",
    "        elapsed_time = time.time() - cur_time\n",
    "        if elapsed_time < frame_delay:\n",
    "            time.sleep(frame_delay - elapsed_time)\n",
    "\n",
    "        # Break the loop if 'q' is pressed\n",
    "        if cv2.waitKey(1) & 0xFF == ord('q'):\n",
    "            break\n",
    "    except Exception as e:\n",
    "        print(f\"Error: {e}\")\n",
    "        break\n",
    "\n",
    "# Release resources\n",
    "vid.release()\n",
    "writer.release()\n",
    "cv2.destroyAllWindows()\n",
    "# as the watKey value increase fps drops so and it is in miliseonds 0xFF is used to check the key pressed and ord('q') is used to check for q key pressed\n",
    "# cv2.VideoCapture(0) is used to capture the video from webcam or camera    "
   ]
  }
 ],
 "metadata": {
  "kernelspec": {
   "display_name": "Python 3",
   "language": "python",
   "name": "python3"
  },
  "language_info": {
   "codemirror_mode": {
    "name": "ipython",
    "version": 3
   },
   "file_extension": ".py",
   "mimetype": "text/x-python",
   "name": "python",
   "nbconvert_exporter": "python",
   "pygments_lexer": "ipython3",
   "version": "3.13.2"
  }
 },
 "nbformat": 4,
 "nbformat_minor": 2
}
