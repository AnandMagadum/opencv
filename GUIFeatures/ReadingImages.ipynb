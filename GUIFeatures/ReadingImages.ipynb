{
 "cells": [
  {
   "cell_type": "markdown",
   "metadata": {},
   "source": [
    "## Reading Images and Videos "
   ]
  },
  {
   "cell_type": "code",
   "execution_count": 6,
   "metadata": {},
   "outputs": [],
   "source": [
    "import cv2\n",
    "import matplotlib.pyplot as plt\n",
    "import time"
   ]
  },
  {
   "cell_type": "code",
   "execution_count": 23,
   "metadata": {},
   "outputs": [
    {
     "data": {
      "text/plain": [
       "True"
      ]
     },
     "execution_count": 23,
     "metadata": {},
     "output_type": "execute_result"
    }
   ],
   "source": [
    "#Reading Images\n",
    "image=cv2.imread(\"..//nature1.jpg\",-1)\n",
    "# 1 for RGB,-1 for BGR and 0 for grayscale\n",
    "assert image is not None, \"Image not found\"\n",
    "cv2.imshow('nature',image)\n",
    "cv2.waitKey(5000)\n",
    "cv2.destroyAllWindows()\n",
    "#writing images\n",
    "cv2.imwrite(\"..//nature2.jpg\",image)"
   ]
  },
  {
   "cell_type": "code",
   "execution_count": null,
   "metadata": {},
   "outputs": [
    {
     "name": "stdout",
     "output_type": "stream",
     "text": [
      "End of video\n"
     ]
    }
   ],
   "source": [
    "#Capturing Videos and writing video\n",
    "fourcc=cv2.VideoWriter_fourcc(*'MJPG')\n",
    "writer=cv2.VideoWriter(\"..\\\\output.mp4\",fourcc,30.0,(480,640))\n",
    "framedelay=1/30\n",
    "vid=cv2.VideoCapture(\"..\\\\dogvideo.mp4\")\n",
    "prevtime=0\n",
    "while True:\n",
    "    curtime=time.time()\n",
    "    fps=1/(curtime-prevtime)\n",
    "    prevtime=curtime\n",
    "    try :\n",
    "        ret,frame=vid.read()\n",
    "        if not ret:\n",
    "            print(\"End of video\")\n",
    "            break\n",
    "        # frame=cv2.flip(frame,1)\n",
    "        frame=cv2.putText(frame,f'FPS : {int(fps)} Press \"q\" For Stopping Video',(10,30),cv2.FONT_HERSHEY_SIMPLEX,1,(0,0,255),2)\n",
    "        frame=cv2.resize(frame,(480,640))\n",
    "        cv2.imshow('webcam',frame)\n",
    "        grayframe=cv2.cvtColor(frame,cv2.COLOR_BGR2GRAY)\n",
    "        writer.write(grayframe)\n",
    "        time.sleep(framedelay)\n",
    "        if cv2.waitKey(1) & 0xFF==ord('q'):\n",
    "            break\n",
    "    except Exception as e:\n",
    "        print(str(e))\n",
    "        break\n",
    "vid.release()\n",
    "writer.release()\n",
    "cv2.destroyAllWindows()\n",
    "# as the watKey value increase fps drops so and it is in miliseonds 0xFF is used to check the key pressed and ord('q') is used to check for q key pressed\n",
    "# cv2.VideoCapture(0) is used to capture the video from webcam or camera    "
   ]
  },
  {
   "cell_type": "code",
   "execution_count": null,
   "metadata": {},
   "outputs": [],
   "source": []
  }
 ],
 "metadata": {
  "kernelspec": {
   "display_name": "Python 3",
   "language": "python",
   "name": "python3"
  },
  "language_info": {
   "codemirror_mode": {
    "name": "ipython",
    "version": 3
   },
   "file_extension": ".py",
   "mimetype": "text/x-python",
   "name": "python",
   "nbconvert_exporter": "python",
   "pygments_lexer": "ipython3",
   "version": "3.13.2"
  }
 },
 "nbformat": 4,
 "nbformat_minor": 2
}
